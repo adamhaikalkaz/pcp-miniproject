{
 "cells": [
  {
   "cell_type": "markdown",
   "metadata": {
    "tags": []
   },
   "source": [
    "# Miniproject Assessed Exercise\n",
    "# Level  8\n",
    "## Adam Haikal bin Kamarul Ariffin\n",
    "## 230933512\n",
    "## 14/11/2023\n",
    "## Version 1\n",
    "--any changes to earlier changes go here--\n"
   ]
  },
  {
   "cell_type": "markdown",
   "metadata": {},
   "source": [
    "## Summary of the Question \n",
    "\n",
    "<span style=\"color: red;\">\n",
    "Write a quiz procedural program where answeres must be typed by the player.\n",
    "</span>"
   ]
  },
  {
   "cell_type": "markdown",
   "metadata": {},
   "source": [
    "## Justification that the program passes this level\n",
    "This is based on tick boxes at start of the question description for this exercise.\n",
    "- I can EXPLAIN HOW MY PROGRAM WORKS\n",
    "- I wrote this program myself\n",
    "\n",
    "<span style=\"color: red;\">\n",
    "etc\n",
    "</span>"
   ]
  },
  {
   "cell_type": "markdown",
   "metadata": {},
   "source": [
    "## The literate program development"
   ]
  },
  {
   "cell_type": "markdown",
   "metadata": {},
   "source": [
    "### helloMessage\n",
    "\n",
    "#### What it does\n",
    "<span style=\"color: red;\">\n",
    "Displays greeting message for the user\n",
    "    </span>\n",
    "\n",
    "#### Implementation (how it works)\n",
    "<span style=\"color: red;\">\n",
    "Printing statements lines to give output to the user\n",
    "    </span>"
   ]
  },
  {
   "cell_type": "code",
   "execution_count": 9,
   "metadata": {},
   "outputs": [],
   "source": [
    "// Print a hello message\n",
    "//\n",
    "public static void helloMessage ()\n",
    "{\n",
    "     System.out.println(\"Hi. Welcome to my Quiz Program.\");\n",
    "     System.out.println(\"If you get an answer right, the points for the next question increase.\");\n",
    "     System.out.println(\"However, if you get a question wrong, the next question drops back to being worth only 1 point.\");\n",
    "     System.out.println(\"Goodluck!\");\n",
    "\n",
    "    return;\n",
    "} // END helloMessage"
   ]
  },
  {
   "cell_type": "markdown",
   "metadata": {},
   "source": [
    "#### Testing"
   ]
  },
  {
   "cell_type": "code",
   "execution_count": 10,
   "metadata": {},
   "outputs": [
    {
     "name": "stdout",
     "output_type": "stream",
     "text": [
      "Hi. Welcome to my Quiz Program.\n",
      "If you get an answer right, the points for the next question increase.\n",
      "However, if you get a question wrong, the next question drops back to being worth only 1 point.\n",
      "Goodluck!\n"
     ]
    }
   ],
   "source": [
    "helloMessage();"
   ]
  },
  {
   "cell_type": "code",
   "execution_count": 11,
   "metadata": {},
   "outputs": [],
   "source": [
    "public static String inputString(String message)\n",
    "{\n",
    "    Scanner scanner = new Scanner(System.in);\n",
    "    String answer;\n",
    "\n",
    "    System.out.println(message);\n",
    "    answer = scanner.nextLine();\n",
    "   \n",
    "    return answer;\n",
    "} // END inputString"
   ]
  },
  {
   "cell_type": "code",
   "execution_count": 12,
   "metadata": {},
   "outputs": [],
   "source": [
    "class Question \n",
    "{\n",
    "    String questionText;\n",
    "    String correctAnswer;\n",
    "}"
   ]
  },
  {
   "cell_type": "code",
   "execution_count": 13,
   "metadata": {},
   "outputs": [],
   "source": [
    "public static Question createQuestion(String qT, String cA)\n",
    "{\n",
    "    Question q = new Question();\n",
    "    q.questionText = qT;\n",
    "    q.correctAnswer = cA;\n",
    "\n",
    "    return q;\n",
    "}"
   ]
  },
  {
   "cell_type": "code",
   "execution_count": 14,
   "metadata": {},
   "outputs": [],
   "source": [
    "// Accessor method for questionText\n",
    "public String getQuestionText(Question q) \n",
    "{\n",
    "    return q.questionText;\n",
    "}"
   ]
  },
  {
   "cell_type": "code",
   "execution_count": 15,
   "metadata": {},
   "outputs": [],
   "source": [
    "// Accessor method for correctAnswer\n",
    "public String getCorrectAnswer(Question q) \n",
    "{\n",
    "    return q.correctAnswer;\n",
    "}"
   ]
  },
  {
   "cell_type": "markdown",
   "metadata": {},
   "source": [
    "### questionfile\n",
    "\n",
    "#### What it does\n",
    "<span style=\"color: red;\">\n",
    "This method generates and writes three sets of questions along with their corresponding answers to separate CSV files.\n",
    "    </span>\n",
    "\n",
    "#### Implementation (how it works)\n",
    "<span style=\"color: red;\">\n",
    "It creates three PrintWriter instances for three different CSV files, writes the number of questions, iterates through each set of questions and answers, writes them to the respective CSV files, and then closes each PrintWriter.\n",
    "    </span>"
   ]
  },
  {
   "cell_type": "code",
   "execution_count": 16,
   "metadata": {},
   "outputs": [],
   "source": [
    "// This method creates and writes questions to three separate CSV files\n",
    "// Each CSV file contains a set of questions and their corresponding answers\n",
    "public static void questionfile() throws IOException\n",
    "{\n",
    "    PrintWriter question_file_1 = new PrintWriter (new FileWriter(\"set1.csv\"));\n",
    "\n",
    "    String [] questions_set_1 = {\"In what country is the Chernobyl nuclear plant located?\", \"In what country is the Eiffel Tower located?\", \"What is the capital of Japan?\"};\n",
    "    String [] answers_set_1 = {\"Ukraine\", \"France\", \"Tokyo\"};\n",
    "    question_file_1.println(3);\n",
    "\n",
    "    for (int i = 0;i<questions_set_1.length;i++)\n",
    "    {\n",
    "        question_file_1.println(questions_set_1[i] + \",\" + answers_set_1[i]);\n",
    "    }\n",
    "    \n",
    "    question_file_1.close();\n",
    "\n",
    "    PrintWriter question_file_2 = new PrintWriter (new FileWriter(\"set2.csv\"));\n",
    "\n",
    "    String [] questions_set_2 = {\"Which element has the chemical symbol H ?\", \"What is the capital of Australia?\", \"Who wrote the play Hamlet ?\"};\n",
    "    String [] answers_set_2 = {\"Hydrogen\", \"Canberra\", \"Shakespeare\"};\n",
    "    question_file_2.println(3);\n",
    "\n",
    "    for (int i = 0;i<questions_set_2.length;i++)\n",
    "    {\n",
    "        question_file_2.println(questions_set_2[i] + \",\" + answers_set_2[i]);\n",
    "    }\n",
    "    \n",
    "    question_file_2.close();\n",
    "\n",
    "    PrintWriter question_file_3 = new PrintWriter (new FileWriter(\"set3.csv\"));\n",
    "\n",
    "    String [] questions_set_3 = {\"What is the currency of Japan?\", \"Which gas do plants absorb during photosynthesis?\", \"Who is known as the Father of Physics?\"};\n",
    "    String [] answers_set_3 = {\"Yen\", \"Carbon\", \"Newton\"};\n",
    "    question_file_3.println(3);\n",
    "\n",
    "    for (int i = 0;i<questions_set_3.length;i++)\n",
    "    {\n",
    "        question_file_3.println(questions_set_3[i] + \",\" + answers_set_3[i]);\n",
    "    }\n",
    "    \n",
    "    question_file_3.close();\n",
    "\n",
    "    return;\n",
    "}"
   ]
  },
  {
   "cell_type": "markdown",
   "metadata": {},
   "source": [
    "### getSet\n",
    "\n",
    "#### What it does\n",
    "<span style=\"color: red;\">\n",
    "This method takes a set name as input and returns the corresponding CSV file name, mapping set names (\"Set 1\", \"Set 2\", \"Set 3\") to their respective CSV files (\"set1.csv\", \"set2.csv\", \"set3.csv\").\n",
    "    </span>\n",
    "\n",
    "#### Implementation (how it works)\n",
    "<span style=\"color: red;\">\n",
    "It compares the input set name with predefined set names and returns the corresponding CSV file name, or \"Invalid\" if no match is found\n",
    "    </span>"
   ]
  },
  {
   "cell_type": "code",
   "execution_count": 17,
   "metadata": {},
   "outputs": [],
   "source": [
    "// This method takes a set name as input and returns the corresponding CSV file name\n",
    "// It maps set names (\"Set 1\", \"Set 2\", \"Set 3\") to their respective CSV files (\"set1.csv\", \"set2.csv\", \"set3.csv\")\n",
    "public static String getSet(String filename)\n",
    "{\n",
    "    if (filename.equals(\"Set 1\"))\n",
    "    {\n",
    "        return \"set1.csv\";\n",
    "    }\n",
    "    else if (filename.equals(\"Set 2\"))\n",
    "    {\n",
    "        return \"set2.csv\";\n",
    "    }\n",
    "    else if (filename.equals(\"Set 3\"))\n",
    "    {\n",
    "        return \"set3.csv\";\n",
    "    }\n",
    "    else\n",
    "    {\n",
    "        return \"Invalid\";\n",
    "    }\n",
    "}"
   ]
  },
  {
   "cell_type": "markdown",
   "metadata": {},
   "source": [
    "### calculatePointsForNextQuestion\n",
    "\n",
    "#### What it does\n",
    "<span style=\"color: red;\">\n",
    "This method calculates the points for the next question, increasing the points by 1 based on the current total points.\n",
    "    </span>\n",
    "\n",
    "#### Implementation (how it works)\n",
    "<span style=\"color: red;\">\n",
    "It takes the current total points as input, adds 1 to it, and returns the result as the points for the next question.\n",
    "    </span>"
   ]
  },
  {
   "cell_type": "code",
   "execution_count": 18,
   "metadata": {},
   "outputs": [],
   "source": [
    "// This method takes the current total points and returns the points for the next question\n",
    "// It increments the current total points by 1, representing the points earned for the next question\n",
    "public static int calculatePointsForNextQuestion(int currentTotalPoints)\n",
    "{\n",
    "    return currentTotalPoints + 1;\n",
    "}"
   ]
  },
  {
   "cell_type": "markdown",
   "metadata": {},
   "source": [
    "### marking\n",
    "\n",
    "#### What it does\n",
    "<span style=\"color: red;\">\n",
    "This method checks if the user's answer matches the correct answer and returns a boolean indicating if it's correct or not.\n",
    "    </span>\n",
    "\n",
    "#### Implementation (how it works)\n",
    "<span style=\"color: red;\">\n",
    "It compares the provided answer to the correct answer and returns true if they match and false if they don't.\n",
    "    </span>"
   ]
  },
  {
   "cell_type": "code",
   "execution_count": 19,
   "metadata": {},
   "outputs": [],
   "source": [
    "// This method compares the user's answer with the correct answer and returns true if they match, false otherwise\n",
    "// It checks if the given answer is equal to the correct answer, indicating whether the user's response is correct\n",
    "public static boolean marking(String answer, String correctAns) {\n",
    "    if (answer.equals(correctAns)) \n",
    "    {\n",
    "        return true;\n",
    "    } else \n",
    "    {\n",
    "        return false;\n",
    "    }\n",
    "}"
   ]
  },
  {
   "cell_type": "markdown",
   "metadata": {},
   "source": [
    "### quizQues\n",
    "\n",
    "#### What it does\n",
    "\n",
    "<span style=\"color: red;\">\n",
    "Asks the user for the first quiz question and adding a variable to calculate the points score they gained\n",
    "</span>\n",
    "\n",
    "#### Implementation (how it works)\n",
    "<span style=\"color: red;\">\n",
    "This code asks the user a question, checks if their answer matches the correct answer, adjusts the points accordingly for the next question, and returns the updated points\n",
    "    </span>\n"
   ]
  },
  {
   "cell_type": "code",
   "execution_count": 20,
   "metadata": {},
   "outputs": [],
   "source": [
    "// Get the answer for the question from user input\n",
    "public static int quizQues (int currentTotalPoints, Question ques)\n",
    "{\n",
    "    String answer;\n",
    "    int pointsEarned = 0;\n",
    "\n",
    "    answer = inputString(getQuestionText(ques));\n",
    "\n",
    "    if (marking(answer, getCorrectAnswer(ques)))\n",
    "    {\n",
    "        pointsEarned = calculatePointsForNextQuestion(currentTotalPoints);\n",
    "        System.out.println(\"You are correct! You earned \" + pointsEarned + \" point(s) for this question.\");\n",
    "    }\n",
    "    else\n",
    "    {\n",
    "        pointsEarned = 0;\n",
    "        System.out.println(\"Sorry, your answer is incorrect. You earned 0 points for this question.\");\n",
    "    }\n",
    "\n",
    "    System.out.println(\"Your next question is worth \" + (pointsEarned + 1) + \" points.\");\n",
    "\n",
    "    return pointsEarned;\n",
    "} // END quizQues"
   ]
  },
  {
   "cell_type": "markdown",
   "metadata": {},
   "source": [
    "#### Testing"
   ]
  },
  {
   "cell_type": "code",
   "execution_count": 21,
   "metadata": {},
   "outputs": [
    {
     "ename": "CompilationException",
     "evalue": "",
     "output_type": "error",
     "traceback": [
      "\u001b[1m\u001b[30m|   \u001b[1m\u001b[30m\u001b[0m\u001b[1m\u001b[30m\u001b[41mquizQues\u001b[0m\u001b[1m\u001b[30m(0);\u001b[0m",
      "\u001b[1m\u001b[31mmethod quizQues in class  cannot be applied to given types;\u001b[0m",
      "\u001b[1m\u001b[31m  required: int,Question\u001b[0m",
      "\u001b[1m\u001b[31m  found: int\u001b[0m",
      "\u001b[1m\u001b[31m  reason: actual and formal argument lists differ in length\u001b[0m",
      ""
     ]
    }
   ],
   "source": [
    "quizQues(0);"
   ]
  },
  {
   "cell_type": "markdown",
   "metadata": {},
   "source": [
    "#### Testing"
   ]
  },
  {
   "cell_type": "markdown",
   "metadata": {},
   "source": [
    "### readQuestionsFromFile\n",
    "\n",
    "\n",
    "#### What it does\n",
    "\n",
    "<span style=\"color: red;\">\n",
    "This method reads a set of questions and answers from a specified file, creating an array of Question objects, and returns it.\n",
    "</span>\n",
    "\n",
    "#### Implementation (how it works)\n",
    "<span style=\"color: red;\">\n",
    "It opens the file, reads the number of questions, iterates through each line to parse questions and answers, creates Question objects, and handles any invalid format by skipping problematic lines.\n",
    "    </span>\n"
   ]
  },
  {
   "cell_type": "code",
   "execution_count": 22,
   "metadata": {},
   "outputs": [],
   "source": [
    "// This method reads questions from a file specified by the given filename\n",
    "// It returns an array of Question objects containing the parsed questions and answers\n",
    "public static Question[] readQuestionsFromFile(String filename) throws IOException \n",
    "{\n",
    "    BufferedReader file = new BufferedReader(new FileReader(filename));\n",
    "    int numQuestions = Integer.parseInt(file.readLine().trim());\n",
    "    Question[] questions = new Question[numQuestions];\n",
    "\n",
    "    for (int i = 0; i < numQuestions; i++) \n",
    "    {\n",
    "        String line = file.readLine();\n",
    "        String[] parts = line.split(\",\");\n",
    "        if (parts.length == 2) \n",
    "        {\n",
    "            questions[i] = createQuestion(parts[0], parts[1]);\n",
    "        } \n",
    "        else \n",
    "        {\n",
    "            System.out.println(\"Invalid format in set file. Skipping question: \" + line);\n",
    "        }\n",
    "    }\n",
    "\n",
    "    file.close();\n",
    "    return questions;\n",
    "}"
   ]
  },
  {
   "cell_type": "markdown",
   "metadata": {},
   "source": [
    "### program\n",
    "\n",
    "\n",
    "#### What it does\n",
    "\n",
    "<span style=\"color: red;\">\n",
    "calls a sequence of other method such as helloMessage and intializes a for loop and calling the method quizQues and creating a variable to calculate the total points\n",
    "</span>\n",
    "\n",
    "#### Implementation (how it works)\n",
    "<span style=\"color: red;\">\n",
    "This method quizProgram initializes a totalPoints variable, displays a greeting message using helloMessage(), starts with a total score of 0, adds the points earned from the quiz question using quizQues(totalPoints)\n",
    "    </span>\n"
   ]
  },
  {
   "cell_type": "code",
   "execution_count": 23,
   "metadata": {},
   "outputs": [],
   "source": [
    "// Main program for a quiz application that reads questions from CSV files,\n",
    "// allows users to answer them, and calculates and displays their scores\n",
    "public static void program () throws IOException\n",
    "{\n",
    "    final int no_of_user = 5;\n",
    "    int [] totalPointsArray = new int[no_of_user];\n",
    "    helloMessage();\n",
    "\n",
    "    String filename = getSet(inputString(\"Which set of questions would you choose ? (Set 1 or Set 2 or Set 3)\"));\n",
    "\n",
    "        // Read questions directly from the chosen set file\n",
    "    Question[] questions = readQuestionsFromFile(filename);\n",
    "\n",
    "    for (int i = 0; i<no_of_user; i++)\n",
    "    {\n",
    "        totalPointsArray[i] = 0;\n",
    "\n",
    "        for (int j = 0; j<3; j++)\n",
    "        {\n",
    "            totalPointsArray[i] += quizQues(totalPointsArray[i], questions[j]);\n",
    "        }\n",
    "\n",
    "        System.out.println(\"User \" + (i + 1) + \" total points: \" + (totalPointsArray[i]-1));\n",
    "        \n",
    "    }\n",
    "    \n",
    "    return;\n",
    "}"
   ]
  },
  {
   "cell_type": "code",
   "execution_count": 24,
   "metadata": {},
   "outputs": [
    {
     "name": "stdout",
     "output_type": "stream",
     "text": [
      "Hi. Welcome to my Quiz Program.\n",
      "If you get an answer right, the points for the next question increase.\n",
      "However, if you get a question wrong, the next question drops back to being worth only 1 point.\n",
      "Goodluck!\n",
      "Which set of questions would you choose ? (Set 1 or Set 2 or Set 3)\n"
     ]
    },
    {
     "name": "stdin",
     "output_type": "stream",
     "text": [
      " Set 1\n"
     ]
    },
    {
     "ename": "EvalException",
     "evalue": "set1.csv (No such file or directory)",
     "output_type": "error",
     "traceback": [
      "\u001b[1m\u001b[31m---------------------------------------------------------------------------\u001b[0m",
      "\u001b[1m\u001b[31mjava.io.FileNotFoundException: set1.csv (No such file or directory)\u001b[0m",
      "\u001b[1m\u001b[31m\tat java.base/java.io.FileInputStream.open0(Native Method)\u001b[0m",
      "\u001b[1m\u001b[31m\tat java.base/java.io.FileInputStream.open(FileInputStream.java:219)\u001b[0m",
      "\u001b[1m\u001b[31m\tat java.base/java.io.FileInputStream.<init>(FileInputStream.java:157)\u001b[0m",
      "\u001b[1m\u001b[31m\tat java.base/java.io.FileInputStream.<init>(FileInputStream.java:112)\u001b[0m",
      "\u001b[1m\u001b[31m\tat java.base/java.io.FileReader.<init>(FileReader.java:60)\u001b[0m",
      "\u001b[1m\u001b[31m\tat .readQuestionsFromFile(#18:5)\u001b[0m",
      "\u001b[1m\u001b[31m\tat .program(#27:12)\u001b[0m",
      "\u001b[1m\u001b[31m\tat .(#28:1)\u001b[0m"
     ]
    }
   ],
   "source": [
    "program();"
   ]
  },
  {
   "cell_type": "markdown",
   "metadata": {},
   "source": [
    "### Running the program\n",
    "Run the following call to simulate running the complete program."
   ]
  },
  {
   "cell_type": "markdown",
   "metadata": {},
   "source": [
    "## The complete program\n",
    "This version will only compile here. To run it copy it into a file called initials.java on your local computer and compile and run it there."
   ]
  },
  {
   "cell_type": "code",
   "execution_count": 25,
   "metadata": {},
   "outputs": [],
   "source": [
    "/* ***************************************\n",
    "  @author    Adam Haikal bin Kamarul Ariffin\n",
    "  @SID       230933512\n",
    "  @date      29 September 2023\n",
    "  @version   1\n",
    "\n",
    "    Write a quiz procedural program where answeres must be typed by the player.\n",
    "   ****************************************/\n",
    "import java.util.Scanner;\n",
    "\n",
    "class Question \n",
    "{\n",
    "    String questionText;\n",
    "    String correctAnswer;\n",
    "}\n",
    "\n",
    "class quizProgram\n",
    "{\n",
    "\n",
    "    // Main program for a quiz application that reads questions from CSV files,\n",
    "    // allows users to answer them, and calculates and displays their scores\n",
    "    public static void main(String[] args) throws IOException\n",
    "    {\n",
    "        final int no_of_user = 5;\n",
    "        int [] totalPointsArray = new int[no_of_user];\n",
    "        helloMessage();\n",
    "    \n",
    "        String filename = getSet(inputString(\"Which set of questions would you choose ? (Set 1 or Set 2 or Set 3)\"));\n",
    "    \n",
    "            // Read questions directly from the chosen set file\n",
    "        Question[] questions = readQuestionsFromFile(filename);\n",
    "    \n",
    "        for (int i = 0; i<no_of_user; i++)\n",
    "        {\n",
    "            totalPointsArray[i] = 0;\n",
    "    \n",
    "            for (int j = 0; j<3; j++)\n",
    "            {\n",
    "                totalPointsArray[i] += quizQues(totalPointsArray[i], questions[j]);\n",
    "            }\n",
    "    \n",
    "            System.out.println(\"User \" + (i + 1) + \" total points: \" + (totalPointsArray[i]-1));\n",
    "            \n",
    "        }\n",
    "        \n",
    "        return;\n",
    "    }\n",
    "\n",
    "    // This method reads questions from a file specified by the given filename\n",
    "    // It returns an array of Question objects containing the parsed questions and answers\n",
    "    public static Question[] readQuestionsFromFile(String filename) throws IOException \n",
    "    {\n",
    "        BufferedReader file = new BufferedReader(new FileReader(filename));\n",
    "        int numQuestions = Integer.parseInt(file.readLine().trim());\n",
    "        Question[] questions = new Question[numQuestions];\n",
    "    \n",
    "        for (int i = 0; i < numQuestions; i++) \n",
    "        {\n",
    "            String line = file.readLine();\n",
    "            String[] parts = line.split(\",\");\n",
    "            if (parts.length == 2) \n",
    "            {\n",
    "                questions[i] = createQuestion(parts[0], parts[1]);\n",
    "            } \n",
    "            else \n",
    "            {\n",
    "                System.out.println(\"Invalid format in set file. Skipping question: \" + line);\n",
    "            }\n",
    "        }\n",
    "    \n",
    "        file.close();\n",
    "        return questions;\n",
    "    }\n",
    "\n",
    "    // Get the answer for the question from user input\n",
    "    public static int quizQues (int currentTotalPoints, Question ques)\n",
    "    {\n",
    "        String answer;\n",
    "        int pointsEarned = 0;\n",
    "    \n",
    "        answer = inputString(getQuestionText(ques));\n",
    "    \n",
    "        if (marking(answer, getCorrectAnswer(ques)))\n",
    "        {\n",
    "            pointsEarned = calculatePointsForNextQuestion(currentTotalPoints);\n",
    "            System.out.println(\"You are correct! You earned \" + pointsEarned + \" point(s) for this question.\");\n",
    "        }\n",
    "        else\n",
    "        {\n",
    "            pointsEarned = 0;\n",
    "            System.out.println(\"Sorry, your answer is incorrect. You earned 0 points for this question.\");\n",
    "        }\n",
    "    \n",
    "        System.out.println(\"Your next question is worth \" + (pointsEarned + 1) + \" points.\");\n",
    "    \n",
    "        return pointsEarned;\n",
    "    } // END quizQues\n",
    "\n",
    "    // This method compares the user's answer with the correct answer and returns true if they match, false otherwise\n",
    "    // It checks if the given answer is equal to the correct answer, indicating whether the user's response is correct\n",
    "    public static boolean marking(String answer, String correctAns) {\n",
    "        if (answer.equals(correctAns)) \n",
    "        {\n",
    "            return true;\n",
    "        } else \n",
    "        {\n",
    "            return false;\n",
    "        }\n",
    "    }\n",
    "\n",
    "    // This method takes the current total points and returns the points for the next question\n",
    "    // It increments the current total points by 1, representing the points earned for the next question\n",
    "    public static int calculatePointsForNextQuestion(int currentTotalPoints)\n",
    "    {\n",
    "        return currentTotalPoints + 1;\n",
    "    }\n",
    "\n",
    "    // This method takes a set name as input and returns the corresponding CSV file name\n",
    "    // It maps set names (\"Set 1\", \"Set 2\", \"Set 3\") to their respective CSV files (\"set1.csv\", \"set2.csv\", \"set3.csv\")\n",
    "    public static String getSet(String filename)\n",
    "    {\n",
    "        if (filename.equals(\"Set 1\"))\n",
    "        {\n",
    "            return \"set1.csv\";\n",
    "        }\n",
    "        else if (filename.equals(\"Set 2\"))\n",
    "        {\n",
    "            return \"set2.csv\";\n",
    "        }\n",
    "        else if (filename.equals(\"Set 3\"))\n",
    "        {\n",
    "            return \"set3.csv\";\n",
    "        }\n",
    "        else\n",
    "        {\n",
    "            return \"Invalid\";\n",
    "        }\n",
    "    }\n",
    "\n",
    "    // This method creates and writes questions to three separate CSV files\n",
    "    // Each CSV file contains a set of questions and their corresponding answers\n",
    "    public static void questionfile() throws IOException\n",
    "    {\n",
    "        PrintWriter question_file_1 = new PrintWriter (new FileWriter(\"set1.csv\"));\n",
    "    \n",
    "        String [] questions_set_1 = {\"In what country is the Chernobyl nuclear plant located?\", \"In what country is the Eiffel Tower located?\", \"What is the capital of Japan?\"};\n",
    "        String [] answers_set_1 = {\"Ukraine\", \"France\", \"Tokyo\"};\n",
    "        question_file_1.println(3);\n",
    "    \n",
    "        for (int i = 0;i<questions_set_1.length;i++)\n",
    "        {\n",
    "            question_file_1.println(questions_set_1[i] + \",\" + answers_set_1[i]);\n",
    "        }\n",
    "        \n",
    "        question_file_1.close();\n",
    "    \n",
    "        PrintWriter question_file_2 = new PrintWriter (new FileWriter(\"set2.csv\"));\n",
    "    \n",
    "        String [] questions_set_2 = {\"Which element has the chemical symbol H ?\", \"What is the capital of Australia?\", \"Who wrote the play Hamlet ?\"};\n",
    "        String [] answers_set_2 = {\"Hydrogen\", \"Canberra\", \"Shakespeare\"};\n",
    "        question_file_2.println(3);\n",
    "    \n",
    "        for (int i = 0;i<questions_set_2.length;i++)\n",
    "        {\n",
    "            question_file_2.println(questions_set_2[i] + \",\" + answers_set_2[i]);\n",
    "        }\n",
    "        \n",
    "        question_file_2.close();\n",
    "    \n",
    "        PrintWriter question_file_3 = new PrintWriter (new FileWriter(\"set3.csv\"));\n",
    "    \n",
    "        String [] questions_set_3 = {\"What is the currency of Japan?\", \"Which gas do plants absorb during photosynthesis?\", \"Who is known as the Father of Physics?\"};\n",
    "        String [] answers_set_3 = {\"Yen\", \"Carbon\", \"Newton\"};\n",
    "        question_file_3.println(3);\n",
    "    \n",
    "        for (int i = 0;i<questions_set_3.length;i++)\n",
    "        {\n",
    "            question_file_3.println(questions_set_3[i] + \",\" + answers_set_3[i]);\n",
    "        }\n",
    "        \n",
    "        question_file_3.close();\n",
    "    \n",
    "        return;\n",
    "    }\n",
    "\n",
    "    // Accessor method for correctAnswer\n",
    "    public static String getCorrectAnswer(Question q) \n",
    "    {\n",
    "        return q.correctAnswer;\n",
    "    }\n",
    "\n",
    "    // Accessor method for questionText\n",
    "    public static String getQuestionText(Question q) \n",
    "    {\n",
    "        return q.questionText;\n",
    "    }\n",
    "\n",
    "    public static Question createQuestion(String qT, String cA)\n",
    "    {\n",
    "        Question q = new Question();\n",
    "        q.questionText = qT;\n",
    "        q.correctAnswer = cA;\n",
    "    \n",
    "        return q;\n",
    "    }\n",
    "\n",
    "    // Print a hello message\n",
    "    public static void helloMessage ()\n",
    "    {\n",
    "         System.out.println(\"Hi. Welcome to my Quiz Program.\");\n",
    "         System.out.println(\"If you get an answer right, the points for the next question increase.\");\n",
    "         System.out.println(\"However, if you get a question wrong, the next question drops back to being worth only 1 point.\");\n",
    "         System.out.println(\"Goodluck!\");\n",
    "    \n",
    "        return;\n",
    "    } // END helloMessage\n",
    "\n",
    "    public static String inputString(String message)\n",
    "    {\n",
    "        Scanner scanner = new Scanner(System.in);\n",
    "        String answer;\n",
    "    \n",
    "        System.out.println(message);\n",
    "        answer = scanner.nextLine();\n",
    "       \n",
    "        return answer;\n",
    "    } // END inputString\n",
    "}"
   ]
  },
  {
   "cell_type": "code",
   "execution_count": 26,
   "metadata": {},
   "outputs": [
    {
     "name": "stdout",
     "output_type": "stream",
     "text": [
      "Hi. Welcome to my Quiz Program.\n",
      "If you get an answer right, the points for the next question increase.\n",
      "However, if you get a question wrong, the next question drops back to being worth only 1 point.\n",
      "Goodluck!\n",
      "Which set of questions would you choose ? (Set 1 or Set 2 or Set 3)\n"
     ]
    },
    {
     "name": "stdin",
     "output_type": "stream",
     "text": [
      " Set 1\n"
     ]
    },
    {
     "name": "stdout",
     "output_type": "stream",
     "text": [
      "In what country is the Chernobyl nuclear plant located?\n"
     ]
    },
    {
     "name": "stdin",
     "output_type": "stream",
     "text": [
      " Ukraine\n"
     ]
    },
    {
     "name": "stdout",
     "output_type": "stream",
     "text": [
      "You are correct! You earned 1 point(s) for this question.\n",
      "Your next question is worth 2 points.\n",
      "In what country is the Eiffel Tower located?\n"
     ]
    },
    {
     "name": "stdin",
     "output_type": "stream",
     "text": [
      " France\n"
     ]
    },
    {
     "name": "stdout",
     "output_type": "stream",
     "text": [
      "You are correct! You earned 2 point(s) for this question.\n",
      "Your next question is worth 3 points.\n",
      "What is the capital of Japan?\n"
     ]
    },
    {
     "name": "stdin",
     "output_type": "stream",
     "text": [
      " Tokyo\n"
     ]
    },
    {
     "name": "stdout",
     "output_type": "stream",
     "text": [
      "You are correct! You earned 4 point(s) for this question.\n",
      "Your next question is worth 5 points.\n",
      "User 1 total points: 6\n",
      "In what country is the Chernobyl nuclear plant located?\n"
     ]
    },
    {
     "ename": "EvaluationInterruptedException",
     "evalue": "Evaluator was interrupted while executing: 'quizProgram.main(null);'",
     "output_type": "error",
     "traceback": [
      "\u001b[1m\u001b[30m|   \u001b[1m\u001b[30mquizProgram.main(null);\u001b[0m",
      "\u001b[1m\u001b[31mEvaluation interrupted.\u001b[0m"
     ]
    }
   ],
   "source": [
    "quizProgram.main(null);"
   ]
  },
  {
   "cell_type": "code",
   "execution_count": null,
   "metadata": {},
   "outputs": [],
   "source": []
  }
 ],
 "metadata": {
  "kernelspec": {
   "display_name": "Java",
   "language": "java",
   "name": "java"
  },
  "language_info": {
   "codemirror_mode": "java",
   "file_extension": ".jshell",
   "mimetype": "text/x-java-source",
   "name": "Java",
   "pygments_lexer": "java",
   "version": "11.0.8+10-LTS"
  }
 },
 "nbformat": 4,
 "nbformat_minor": 4
}
